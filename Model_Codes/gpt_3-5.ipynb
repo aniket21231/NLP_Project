{
 "cells": [
  {
   "cell_type": "code",
   "execution_count": 3,
   "metadata": {},
   "outputs": [
    {
     "name": "stdout",
     "output_type": "stream",
     "text": [
      "Requirement already satisfied: openai in ./.venv/lib/python3.10/site-packages (0.28.0)\n",
      "Requirement already satisfied: requests>=2.20 in ./.venv/lib/python3.10/site-packages (from openai) (2.31.0)\n",
      "Requirement already satisfied: tqdm in ./.venv/lib/python3.10/site-packages (from openai) (4.66.2)\n",
      "Requirement already satisfied: aiohttp in ./.venv/lib/python3.10/site-packages (from openai) (3.9.5)\n",
      "Requirement already satisfied: charset-normalizer<4,>=2 in ./.venv/lib/python3.10/site-packages (from requests>=2.20->openai) (3.3.2)\n",
      "Requirement already satisfied: idna<4,>=2.5 in ./.venv/lib/python3.10/site-packages (from requests>=2.20->openai) (3.6)\n",
      "Requirement already satisfied: urllib3<3,>=1.21.1 in ./.venv/lib/python3.10/site-packages (from requests>=2.20->openai) (2.2.1)\n",
      "Requirement already satisfied: certifi>=2017.4.17 in ./.venv/lib/python3.10/site-packages (from requests>=2.20->openai) (2024.2.2)\n",
      "Requirement already satisfied: aiosignal>=1.1.2 in ./.venv/lib/python3.10/site-packages (from aiohttp->openai) (1.3.1)\n",
      "Requirement already satisfied: attrs>=17.3.0 in ./.venv/lib/python3.10/site-packages (from aiohttp->openai) (23.2.0)\n",
      "Requirement already satisfied: frozenlist>=1.1.1 in ./.venv/lib/python3.10/site-packages (from aiohttp->openai) (1.4.1)\n",
      "Requirement already satisfied: multidict<7.0,>=4.5 in ./.venv/lib/python3.10/site-packages (from aiohttp->openai) (6.0.5)\n",
      "Requirement already satisfied: yarl<2.0,>=1.0 in ./.venv/lib/python3.10/site-packages (from aiohttp->openai) (1.9.4)\n",
      "Requirement already satisfied: async-timeout<5.0,>=4.0 in ./.venv/lib/python3.10/site-packages (from aiohttp->openai) (4.0.3)\n"
     ]
    }
   ],
   "source": [
    "!pip install openai"
   ]
  },
  {
   "cell_type": "code",
   "execution_count": 1,
   "metadata": {},
   "outputs": [],
   "source": [
    "import openai\n",
    "from torch.utils.data import Dataset, DataLoader\n",
    "from sklearn.model_selection import train_test_split\n",
    "import numpy as np\n",
    "import time\n",
    "from sklearn.metrics import accuracy_score\n"
   ]
  },
  {
   "cell_type": "code",
   "execution_count": 22,
   "metadata": {},
   "outputs": [],
   "source": [
    "openai.api_key = \"sk-\"\n"
   ]
  },
  {
   "cell_type": "code",
   "execution_count": 2,
   "metadata": {},
   "outputs": [],
   "source": [
    "def get_data_lists(data):\n",
    "    questions = []\n",
    "    choices = []\n",
    "    labels = []\n",
    "    for example in data:\n",
    "        # print(example.keys())\n",
    "        questions.append(example['question'])\n",
    "        choices.append(example['choice_list'])\n",
    "        labels.append(example['label'])\n",
    "    return questions, choices, labels\n",
    "\n",
    "class Brain_Teaser(Dataset):\n",
    "  def __init__(self, questions, choices, labels, max_len=512):\n",
    "    self.questions = questions\n",
    "    self.choices = choices\n",
    "    self.labels = labels\n",
    "\n",
    "    self.max_len = max_len\n",
    "    self.inputs = []\n",
    "    self.targets = []\n",
    "    self.question_options_encoded = []\n",
    "\n",
    "    self.build_questions()\n",
    "  \n",
    "  def build_questions(self):\n",
    "    maxi = 0\n",
    "    for id in range(len(self.questions)):\n",
    "      question_options = \"Question : \" + self.questions[id] + ' ' + \"Options 0:\" + ' ' + self.choices[id][0] + ' Options 1: ' + self.choices[id][1] + ' Options 2: ' + self.choices[id][2] + ' Options 3: ' + self.choices[id][3]\n",
    "    #   maxi = max(maxi, len(question_options.split(' ')))\n",
    "    #   self.question_options_encoded.append(self.tokenizer(question_options, return_tensors=\"pt\", max_length = 205, padding=\"max_length\", truncation=True, add_special_tokens = True))\n",
    "      self.question_options_encoded.append(question_options)\n",
    "\n",
    "  def __len__(self):\n",
    "    return len(self.question_options_encoded)\n",
    "  \n",
    "  def __getitem__(self, id):\n",
    "    return self.question_options_encoded[id],  self.labels[id] "
   ]
  },
  {
   "cell_type": "code",
   "execution_count": 3,
   "metadata": {},
   "outputs": [],
   "source": [
    "train_data = np.load(\"data/SP-train.npy\", allow_pickle=True)\n",
    "test_data = np.load(\"data/SP_eval_data_for_practice.npy\", allow_pickle = True)\n",
    "\n",
    "# train_data, val_data = train_test_split(train_data, test_size=0.15, random_state=42)\n",
    "# train_questions, train_choices, train_labels = get_data_lists(train_data)\n",
    "# val_questions, val_choices, val_labels = get_data_lists(val_data)\n",
    "# train_dataset = Brain_Teaser(train_questions, train_choices, train_labels)\n",
    "# val_dataset = Brain_Teaser(val_questions, val_choices, val_labels)\n",
    "\n"
   ]
  },
  {
   "cell_type": "code",
   "execution_count": 13,
   "metadata": {},
   "outputs": [
    {
     "data": {
      "text/plain": [
       "{'id': 'SP-0',\n",
       " 'question': 'Mr. and Mrs. Mustard have six daughters and each daughter has one brother. But there are only 9 people in the family, how is that possible?',\n",
       " 'answer': 'Each daughter shares the same brother.',\n",
       " 'distractor1': 'Some daughters get married and have their own family.',\n",
       " 'distractor2': 'Some brothers were not loved by family and moved away.',\n",
       " 'distractor(unsure)': 'None of above.',\n",
       " 'label': 1,\n",
       " 'choice_list': ['Some daughters get married and have their own family.',\n",
       "  'Each daughter shares the same brother.',\n",
       "  'Some brothers were not loved by family and moved away.',\n",
       "  'None of above.'],\n",
       " 'choice_order': [1, 0, 2, 3]}"
      ]
     },
     "execution_count": 13,
     "metadata": {},
     "output_type": "execute_result"
    }
   ],
   "source": [
    "train_data[0]"
   ]
  },
  {
   "cell_type": "code",
   "execution_count": 13,
   "metadata": {},
   "outputs": [
    {
     "name": "stdout",
     "output_type": "stream",
     "text": [
      "{'id': 'SP-48', 'question': 'Why is it so cold on Christmas?', 'answer': \"Because it's in December.\", 'distractor1': 'Because people are waiting for the New Year.', 'distractor2': 'Because people are celebrating.', 'distractor(unsure)': 'None of above.', 'label': 0, 'choice_list': [\"Because it's in December.\", 'Because people are waiting for the New Year.', 'Because people are celebrating.', 'None of above.'], 'choice_order': [0, 1, 2, 3]}\n",
      "{'id': 'SP-48_SR', 'question': 'Why is Christmas Day so chilly?', 'answer': \"Because it's in December.\", 'distractor1': 'Because people are waiting for the New Year.', 'distractor2': 'Because people are celebrating.', 'distractor(unsure)': 'None of above.', 'label': 0, 'choice_list': [\"Because it's in December.\", 'Because people are waiting for the New Year.', 'Because people are celebrating.', 'None of above.'], 'choice_order': [0, 1, 2, 3]}\n",
      "{'id': 'SP-48_CR', 'question': 'Why is Independence Day so hot?', 'answer': \"Because it's in July.\", 'distractor1': 'Because people are enjoying the firework.', 'distractor2': 'Because people are celebrating.', 'distractor(unsure)': 'None of above.', 'label': 2, 'choice_list': ['Because people are enjoying the firework.', 'Because people are celebrating.', \"Because it's in July.\", 'None of above.'], 'choice_order': [1, 2, 0, 3]}\n"
     ]
    }
   ],
   "source": [
    "for i in range(507):\n",
    "    \n",
    "    if train_data[i]['id'] == 'SP-' + str(48):\n",
    "        print(train_data[i])\n",
    "    elif train_data[i]['id'] == 'SP-'+str(48)+'_CR':\n",
    "        print(train_data[i])\n",
    "    elif train_data[i]['id'] == 'SP-'+str(48)+'_SR':\n",
    "        print(train_data[i])"
   ]
  },
  {
   "cell_type": "code",
   "execution_count": 25,
   "metadata": {},
   "outputs": [
    {
     "name": "stdout",
     "output_type": "stream",
     "text": [
      "77\n"
     ]
    }
   ],
   "source": [
    "print(len(val_dataset))"
   ]
  },
  {
   "cell_type": "code",
   "execution_count": 27,
   "metadata": {},
   "outputs": [
    {
     "name": "stdout",
     "output_type": "stream",
     "text": [
      "ChatGPT: Option 0: He is a coach. 0 0\n",
      "ChatGPT: Option 0: It didn't because roosters don't lay eggs. 0 1\n",
      "ChatGPT: The correct option is: 1: They technically only have one birth day in their lifetime. 1 2\n",
      "ChatGPT: Option 0: The lake was frozen, none of the men got wet despite sinking to the bottom. 1 3\n",
      "ChatGPT: Option 1: He is bald. 1 4\n",
      "ChatGPT: Option 1: The horse operates a mill and travels in a circular clockwise direction. The two outside legs will travel a greater distance than the two inside legs. 1 5\n",
      "ChatGPT: Option 2: The men were pokers. 1 6\n",
      "ChatGPT: Option 1: Fifteen dollars plus the perfume. 1 7\n",
      "ChatGPT: Option 3: None of above 3 8\n",
      "ChatGPT: Option 0: EACH is the name of one of the men. 0 9\n",
      "ChatGPT: Option 3: None of above 3 10\n",
      "ChatGPT: Option 0: Two girls decide to share one apple. 2 11\n",
      "ChatGPT: Option 1: Andy has to use the shovel to create a pile of dirt under the window so he can climb up onto it and escape from the cell. 1 12\n",
      "ChatGPT: Option 2: By moving towards the oncoming train, the man's brain interprets the change in distance and relative motion as a decrease in speed. 1 13\n",
      "ChatGPT: Option 0: Jimy was the name of the fighter-jet that was flying over enemy's territory. 0 14\n",
      "ChatGPT: Option 0: The woman's name is April. 0 15\n",
      "ChatGPT: Option 2: The glass was filled, but not with water. 2 16\n",
      "ChatGPT: Option 1: Infinite. 2 17\n",
      "ChatGPT: Option 3: None of above. 3 18\n",
      "ChatGPT: Option 0: The man is a boxer and he was just playing a box match. He won and he's leaving the hall right now. 0 19\n",
      "ChatGPT: Option 3: None of above. 3 20\n",
      "ChatGPT: Option 0: There is no basement in a one-story house built on a single floor. 0 21\n",
      "ChatGPT: Option 0: It was a Submarine. 0 22\n",
      "ChatGPT: Option 2: EACH is the name of one of the men. 2 23\n",
      "ChatGPT: The correct option is 2: All the people on the flight were female. 2 24\n",
      "ChatGPT: Option 1: She has a class with 30 students and every day she distributes small quiz papers and in the evening she grades them 1 25\n",
      "ChatGPT: Option 0: By moving towards the oncoming train, the man's brain interprets the change in distance and relative motion as a decrease in speed. 2 26\n",
      "ChatGPT: Option 3: None of above. 0 27\n",
      "ChatGPT: Option 3: None of above. 3 28\n",
      "ChatGPT: I predict the correct option is 0: There are no stairs in a single-story house. 0 29\n",
      "ChatGPT: Option 0: He's a barber. 0 30\n",
      "ChatGPT: Option 1: Robert burried one silver sphere in the start of the bridge and made sure the location is private enough that no one can find. 0 31\n",
      "ChatGPT: Option 1: Because she is still alive. 1 32\n",
      "ChatGPT: Option 2: The watchman was fired for not warning the woman in advance. 1 33\n",
      "ChatGPT: Option 0: Home. 3 34\n",
      "ChatGPT: Option 0: Eye glasses store. 0 35\n",
      "ChatGPT: Option 0: Each player shares the same coach. 0 36\n",
      "ChatGPT: Option 0: The computer is a wooden pencil with an eraser. 0 37\n",
      "ChatGPT: I would predict Option 2: Because there is one more penny in 1968 pennies than in 1967 pennies as the correct option. 2 38\n",
      "ChatGPT: Option 2: Despite the boat turning over and sinking, the water level was not high enough to reach the men's bodies. 0 39\n",
      "ChatGPT: I predict the correct option is: 1 2 40\n",
      "ChatGPT: Option 0: Their cars have different heights that can drive beyond each other. 2 41\n",
      "ChatGPT: Option 0: It was day time. 0 42\n",
      "ChatGPT: Option 0: Matthew is a deep-sea diver. 0 43\n",
      "ChatGPT: Option 2: The beggar was the man's sister. 2 44\n",
      "ChatGPT: I predict Option 2: The envelope glue was poisoned and when the man licked the envelope to seal it, he died. 2 45\n",
      "ChatGPT: Option 2: The man wasn't tall enough to reach the button for the 20th floor. He could only reach the 15th story button on the elevator. When it rained, he brought his umbrella, and used it to press the 20th story button on the elevator. 2 46\n",
      "ChatGPT: Option 0: The animal is the Mule. Since all Mules are born sterile, you can only get a Mule by crossing a donkey with a horse. 0 47\n",
      "ChatGPT: Option 3: None of above. 3 48\n",
      "ChatGPT: Option 1: Each daughter shares the same brother. 1 49\n",
      "ChatGPT: Option 1: Hand over the final bean to the seventh sorcerer without removing it from the vase. 1 50\n",
      "ChatGPT: Option 0: There was one boss with his employee, and that employee was somebody else's boss. 0 51\n",
      "ChatGPT: Option 2: They were the same man. 2 52\n",
      "ChatGPT: Option 0: Since the tiger haven't eaten in one year it will have died. 0 53\n",
      "ChatGPT: Option 0: The stone was actually a seed, not an ordinary stone. The seed of a cherry is called a stone. 0 54\n",
      "ChatGPT: Option 0: Stop imagining. 0 55\n",
      "ChatGPT: Option 2: A caterpillar 2 56\n",
      "ChatGPT: Option 1: You're carrying the dog yourself. 1 57\n",
      "ChatGPT: Option 1: They can just walk onto its as the boat is one-meter inland. 1 58\n",
      "ChatGPT: Option 2: The man lived in a lighthouse. 2 59\n",
      "ChatGPT: Option 1: On a chessboard. 1 60\n",
      "ChatGPT: Option 1: The peasant is mistakenly considering himself as one of the camels when he counts them. 2 61\n",
      "ChatGPT: Option 0: Sandy saw the ocean on a map. 0 62\n",
      "ChatGPT: This situation is possible if Mrs. Smith has one pet that is both a dog and a cat at the same time, known as a hybrid pet. \n",
      "\n",
      "Therefore, the correct option is:\n",
      "\n",
      "Option 1: Mrs.Smith has one hybrid pet that is a dog and a cat at the same time. 2 63\n",
      "ChatGPT: Option 2: The taxi driver wasn't driving at the time, he was walking. 2 64\n",
      "ChatGPT: Option 3: None of above 0 65\n",
      "ChatGPT: Option 1: You're the ghost. 1 66\n",
      "ChatGPT: Option 2: He was dead and in a coffin. 2 67\n",
      "ChatGPT: Option 1: The wizard brought the rose bush to her home at night and returned her to the garden in the morning. Therefore, she was the only plant without dew. 1 68\n",
      "ChatGPT: As per the question, the only one capable of reaching the top of the coconut tree would be the bird because birds can fly. Hence, the correct option is:\n",
      "\n",
      "Option 0: The bird. 3 69\n",
      "ChatGPT: Option 2: The man could be a calendar maker. He accidentally excluding February 29th on a leap year's calendar. This \"killed\" the day for 365 people. 0 70\n",
      "ChatGPT: Option 0: Andy should use the shovel to reflect sunlight from the window in to seek help. 1 71\n",
      "ChatGPT: Option 2: Ten 3 72\n",
      "ChatGPT: Option 2: The passengers got off the bus through the window quietly. 1 73\n",
      "ChatGPT: Option 0: The man ran in a circular clockwise direction around his apartment. The left leg traveled a greater distance than the inside leg. 0 74\n",
      "ChatGPT: Option 1: One. After that, it no longer empty. 1 75\n",
      "ChatGPT: Option 2: All people at the party except Tom is married. 2 76\n"
     ]
    }
   ],
   "source": [
    "targets = []\n",
    "predictions = []\n",
    "for step in range(len(val_dataset)):\n",
    "    messages = [\n",
    "        {\"role\": \"system\", \"content\": \"You are a MCQ solver based on the question and options, you predict the correct option id from 0,1,2,3\"},\n",
    "    ]\n",
    "    \n",
    "    # Delay for 20 seconds\n",
    "    time.sleep(19)\n",
    "    \n",
    "    query = val_dataset[step]\n",
    "    # print(query)\n",
    "    messages.append(\n",
    "        {\"role\": \"user\", \"content\": query[0]},\n",
    "    )\n",
    "    chat = openai.ChatCompletion.create(\n",
    "        model=\"gpt-3.5-turbo\", messages=messages\n",
    "    )    \n",
    "    reply = chat.choices[0].message.content\n",
    "    targets.append(query[1])\n",
    "    predictions.append(reply)\n",
    "\n",
    "    print(f\"ChatGPT: {reply}\", query[1], step)\n",
    "    \n"
   ]
  },
  {
   "cell_type": "code",
   "execution_count": 28,
   "metadata": {},
   "outputs": [
    {
     "name": "stdout",
     "output_type": "stream",
     "text": [
      "Accuracy: 0.7272727272727273\n"
     ]
    }
   ],
   "source": [
    "import re\n",
    "\n",
    "numeric_pred = []\n",
    "for text in predictions:\n",
    "    numeric_pred.append(int(re.findall(r'\\d+', text)[0]))\n",
    "\n",
    "accuracy = accuracy_score(targets, numeric_pred)\n",
    "\n",
    "print(\"Accuracy:\", accuracy)"
   ]
  }
 ],
 "metadata": {
  "kernelspec": {
   "display_name": ".venv",
   "language": "python",
   "name": "python3"
  },
  "language_info": {
   "codemirror_mode": {
    "name": "ipython",
    "version": 3
   },
   "file_extension": ".py",
   "mimetype": "text/x-python",
   "name": "python",
   "nbconvert_exporter": "python",
   "pygments_lexer": "ipython3",
   "version": "3.10.10"
  }
 },
 "nbformat": 4,
 "nbformat_minor": 2
}
