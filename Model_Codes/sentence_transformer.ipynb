{
 "cells": [
  {
   "cell_type": "code",
   "execution_count": 2,
   "metadata": {},
   "outputs": [
    {
     "name": "stdout",
     "output_type": "stream",
     "text": [
      "Collecting sentence-transformers\n",
      "  Using cached sentence_transformers-2.7.0-py3-none-any.whl.metadata (11 kB)\n",
      "Requirement already satisfied: transformers<5.0.0,>=4.34.0 in ./.venv/lib/python3.10/site-packages (from sentence-transformers) (4.39.3)\n",
      "Requirement already satisfied: tqdm in ./.venv/lib/python3.10/site-packages (from sentence-transformers) (4.66.2)\n",
      "Requirement already satisfied: torch>=1.11.0 in ./.venv/lib/python3.10/site-packages (from sentence-transformers) (2.2.2)\n",
      "Requirement already satisfied: numpy in ./.venv/lib/python3.10/site-packages (from sentence-transformers) (1.26.4)\n",
      "Requirement already satisfied: scikit-learn in ./.venv/lib/python3.10/site-packages (from sentence-transformers) (1.4.1.post1)\n",
      "Requirement already satisfied: scipy in ./.venv/lib/python3.10/site-packages (from sentence-transformers) (1.13.0)\n",
      "Requirement already satisfied: huggingface-hub>=0.15.1 in ./.venv/lib/python3.10/site-packages (from sentence-transformers) (0.22.2)\n",
      "Requirement already satisfied: Pillow in ./.venv/lib/python3.10/site-packages (from sentence-transformers) (10.3.0)\n",
      "Requirement already satisfied: filelock in ./.venv/lib/python3.10/site-packages (from huggingface-hub>=0.15.1->sentence-transformers) (3.13.3)\n",
      "Requirement already satisfied: fsspec>=2023.5.0 in ./.venv/lib/python3.10/site-packages (from huggingface-hub>=0.15.1->sentence-transformers) (2024.3.1)\n",
      "Requirement already satisfied: packaging>=20.9 in ./.venv/lib/python3.10/site-packages (from huggingface-hub>=0.15.1->sentence-transformers) (24.0)\n",
      "Requirement already satisfied: pyyaml>=5.1 in ./.venv/lib/python3.10/site-packages (from huggingface-hub>=0.15.1->sentence-transformers) (6.0.1)\n",
      "Requirement already satisfied: requests in ./.venv/lib/python3.10/site-packages (from huggingface-hub>=0.15.1->sentence-transformers) (2.31.0)\n",
      "Requirement already satisfied: typing-extensions>=3.7.4.3 in ./.venv/lib/python3.10/site-packages (from huggingface-hub>=0.15.1->sentence-transformers) (4.11.0)\n",
      "Requirement already satisfied: sympy in ./.venv/lib/python3.10/site-packages (from torch>=1.11.0->sentence-transformers) (1.12)\n",
      "Requirement already satisfied: networkx in ./.venv/lib/python3.10/site-packages (from torch>=1.11.0->sentence-transformers) (3.3)\n",
      "Requirement already satisfied: jinja2 in ./.venv/lib/python3.10/site-packages (from torch>=1.11.0->sentence-transformers) (3.1.3)\n",
      "Requirement already satisfied: regex!=2019.12.17 in ./.venv/lib/python3.10/site-packages (from transformers<5.0.0,>=4.34.0->sentence-transformers) (2023.12.25)\n",
      "Requirement already satisfied: tokenizers<0.19,>=0.14 in ./.venv/lib/python3.10/site-packages (from transformers<5.0.0,>=4.34.0->sentence-transformers) (0.15.2)\n",
      "Requirement already satisfied: safetensors>=0.4.1 in ./.venv/lib/python3.10/site-packages (from transformers<5.0.0,>=4.34.0->sentence-transformers) (0.4.2)\n",
      "Requirement already satisfied: joblib>=1.2.0 in ./.venv/lib/python3.10/site-packages (from scikit-learn->sentence-transformers) (1.4.0)\n",
      "Requirement already satisfied: threadpoolctl>=2.0.0 in ./.venv/lib/python3.10/site-packages (from scikit-learn->sentence-transformers) (3.4.0)\n",
      "Requirement already satisfied: MarkupSafe>=2.0 in ./.venv/lib/python3.10/site-packages (from jinja2->torch>=1.11.0->sentence-transformers) (2.1.5)\n",
      "Requirement already satisfied: charset-normalizer<4,>=2 in ./.venv/lib/python3.10/site-packages (from requests->huggingface-hub>=0.15.1->sentence-transformers) (3.3.2)\n",
      "Requirement already satisfied: idna<4,>=2.5 in ./.venv/lib/python3.10/site-packages (from requests->huggingface-hub>=0.15.1->sentence-transformers) (3.6)\n",
      "Requirement already satisfied: urllib3<3,>=1.21.1 in ./.venv/lib/python3.10/site-packages (from requests->huggingface-hub>=0.15.1->sentence-transformers) (2.2.1)\n",
      "Requirement already satisfied: certifi>=2017.4.17 in ./.venv/lib/python3.10/site-packages (from requests->huggingface-hub>=0.15.1->sentence-transformers) (2024.2.2)\n",
      "Requirement already satisfied: mpmath>=0.19 in ./.venv/lib/python3.10/site-packages (from sympy->torch>=1.11.0->sentence-transformers) (1.3.0)\n",
      "Using cached sentence_transformers-2.7.0-py3-none-any.whl (171 kB)\n",
      "Installing collected packages: sentence-transformers\n",
      "Successfully installed sentence-transformers-2.7.0\n",
      "Note: you may need to restart the kernel to use updated packages.\n"
     ]
    }
   ],
   "source": [
    "%pip install sentence-transformers\n"
   ]
  },
  {
   "cell_type": "code",
   "execution_count": 17,
   "metadata": {},
   "outputs": [],
   "source": [
    "import json\n",
    "from transformers import BertTokenizer, BertModel, BertForSequenceClassification, BertConfig\n",
    "from sentence_transformers import SentenceTransformer\n",
    "import torch\n",
    "from sklearn.model_selection import train_test_split\n",
    "import torch.nn as nn\n",
    "from torch.utils.data import Dataset, DataLoader\n",
    "import numpy as np\n",
    "import torch.optim as optim\n",
    "import matplotlib.pyplot as plt\n",
    "import tqdm\n",
    "from sklearn.metrics import accuracy_score\n"
   ]
  },
  {
   "cell_type": "code",
   "execution_count": 2,
   "metadata": {},
   "outputs": [],
   "source": [
    "embedding_model = SentenceTransformer('distilbert-base-nli-mean-tokens')\n",
    "\n"
   ]
  },
  {
   "cell_type": "code",
   "execution_count": 21,
   "metadata": {},
   "outputs": [],
   "source": [
    "def get_data_lists(data):\n",
    "    questions = []\n",
    "    choices = []\n",
    "    labels = []\n",
    "    for example in data:\n",
    "        # print(example.keys())\n",
    "        questions.append(example['question'])\n",
    "        choices.append(example['choice_list'])\n",
    "        labels.append(example['label'])\n",
    "    return questions, choices, labels\n",
    "\n",
    "class Brain_Teaser(Dataset):\n",
    "  def __init__(self, tokenizer, questions, choices, labels, max_len=512):\n",
    "    self.questions = questions\n",
    "    self.choices = choices\n",
    "    self.labels = labels\n",
    "\n",
    "    self.max_len = max_len\n",
    "    self.tokenizer = tokenizer\n",
    "    self.inputs = []\n",
    "    self.targets = []\n",
    "    self.question_options_encoded = []\n",
    "\n",
    "    self.build_questions()\n",
    "  \n",
    "  def build_questions(self):\n",
    "    maxi = 0\n",
    "    for id in range(len(self.questions)):\n",
    "      question_options = \"Question : \" + self.questions[id] + ' ' + \"Option: 0\" + ' ' + self.choices[id][0] + ' Option: 1 ' + self.choices[id][1] + ' Option: 2 ' + self.choices[id][2] + ' Option: 3 ' + self.choices[id][3]\n",
    "      self.question_options_encoded.append(self.tokenizer.encode(question_options, convert_to_tensor = True))\n",
    "    \n",
    "  def __len__(self):\n",
    "    return len(self.question_options_encoded)\n",
    "  \n",
    "  def __getitem__(self, id):\n",
    "    return self.question_options_encoded[id],  self.labels[id]\n",
    "    \n",
    "\n",
    "class Brain_Teaser_2(Dataset):\n",
    "  def __init__(self, tokenizer, questions, choices, labels, max_len=512):\n",
    "    self.questions = questions\n",
    "    self.choices = choices\n",
    "    self.labels = labels\n",
    "\n",
    "    self.max_len = max_len\n",
    "    self.tokenizer = tokenizer\n",
    "    self.inputs = []\n",
    "    self.targets = []\n",
    "    self.question_options_encoded = []\n",
    "\n",
    "    self.build_questions()\n",
    "  \n",
    "  def build_questions(self):\n",
    "    maxi = 0\n",
    "    for id in range(len(self.questions)):\n",
    "      qo = []\n",
    "      for option_id in range(4):\n",
    "        question_options = \"Question : \" + self.questions[id] + ' ' + \"Option: \" + str(option_id) + ' ' + self.choices[id][option_id] \n",
    "        qo.append(self.tokenizer.encode(question_options, convert_to_tensor = True))\n",
    "      self.question_options_encoded.append(qo)\n",
    "    \n",
    "  def __len__(self):\n",
    "    return len(self.question_options_encoded)\n",
    "  \n",
    "  def __getitem__(self, id):\n",
    "    return torch.stack(self.question_options_encoded[id]),  self.labels[id]  "
   ]
  },
  {
   "cell_type": "code",
   "execution_count": 4,
   "metadata": {},
   "outputs": [],
   "source": [
    "data = np.load(\"data/SP-train.npy\", allow_pickle=True)\n",
    "\n",
    "o_data = []\n",
    "sr_data = []\n",
    "cr_data = []\n",
    "\n",
    "for i in range(len(data)):\n",
    "    size_ = len(data[i]['id'])\n",
    "\n",
    "    if data[i]['id'][size_-2:size_] == 'CR':\n",
    "        cr_data.append(data[i])\n",
    "    elif data[i]['id'][size_-2:size_] == 'SR':\n",
    "        sr_data.append(data[i])\n",
    "    else:\n",
    "        o_data.append(data[i])\n",
    "\n",
    "train_data = o_data[:int(len(o_data)*0.8)] + cr_data[:int(len(cr_data)*0.8)] + sr_data[:int(len(sr_data)*0.8)]\n",
    "val_data = o_data[int(len(o_data)*0.8):int(len(o_data)*0.9)] + cr_data[int(len(cr_data)*0.8):int(len(cr_data)*0.9)] + sr_data[int(len(sr_data)*0.8):int(len(sr_data)*0.9)]\n",
    "test_data = o_data[int(len(o_data)*0.9):] + cr_data[int(len(cr_data)*0.9):] + sr_data[int(len(sr_data)*0.9):]\n",
    "# test_data = np.load(\"data/SP_eval_data_for_practice.npy\", allow_pickle = True)\n",
    "\n",
    "# train_data, val_data = train_test_split(train_data, test_size=0.15, random_state=42)\n",
    "\n",
    "\n",
    "train_questions, train_choices, train_labels = get_data_lists(train_data)\n",
    "val_questions, val_choices, val_labels = get_data_lists(val_data)\n",
    "test_questions, test_choices, test_labels = get_data_lists(test_data)"
   ]
  },
  {
   "cell_type": "code",
   "execution_count": 5,
   "metadata": {},
   "outputs": [],
   "source": [
    "train_dataset = Brain_Teaser(embedding_model, train_questions, train_choices, train_labels)\n",
    "val_dataset = Brain_Teaser(embedding_model, val_questions, val_choices, val_labels)\n",
    "test_dataset = Brain_Teaser(embedding_model, test_questions, test_choices, test_labels)\n",
    "\n"
   ]
  },
  {
   "cell_type": "code",
   "execution_count": 24,
   "metadata": {},
   "outputs": [
    {
     "data": {
      "text/plain": [
       "(tensor([[-0.6462, -0.2440,  0.2941,  ..., -0.0312,  0.3269, -0.2828],\n",
       "         [-0.4100, -0.1910,  0.3373,  ...,  0.0210,  0.3945, -0.5179],\n",
       "         [-0.4757, -0.2962,  0.3105,  ...,  0.0132,  0.3523, -0.6067],\n",
       "         [-0.3288, -0.3289,  0.4456,  ..., -0.0748,  0.2734, -0.7899]],\n",
       "        device='mps:0'),\n",
       " 3)"
      ]
     },
     "execution_count": 24,
     "metadata": {},
     "output_type": "execute_result"
    }
   ],
   "source": [
    "test_dataset_2[0]"
   ]
  },
  {
   "cell_type": "code",
   "execution_count": 22,
   "metadata": {},
   "outputs": [],
   "source": [
    "train_dataset_2 = Brain_Teaser_2(embedding_model, train_questions, train_choices, train_labels)\n",
    "val_dataset_2 = Brain_Teaser_2(embedding_model, val_questions, val_choices, val_labels)\n",
    "test_dataset_2 = Brain_Teaser_2(embedding_model, test_questions, test_choices, test_labels)\n"
   ]
  },
  {
   "cell_type": "code",
   "execution_count": 7,
   "metadata": {},
   "outputs": [],
   "source": [
    "class SentenceModel(nn.Module):\n",
    "    def __init__(self):\n",
    "        super(SentenceModel, self).__init__()\n",
    "        self.fc_1 = nn.Linear(768, 256)\n",
    "        self.bn_1 = nn.BatchNorm1d(256)  \n",
    "        self.dropout_1 = nn.Dropout(0.2)  \n",
    "        self.fc_2 = nn.Linear(256, 32)\n",
    "        self.bn_2 = nn.BatchNorm1d(32)  \n",
    "        self.dropout_2 = nn.Dropout(0.3)  \n",
    "        self.fc_3 = nn.Linear(32, 4)\n",
    "\n",
    "    def forward(self, x):\n",
    "        out = self.fc_1(x)\n",
    "        out = self.bn_1(out)  \n",
    "        out = nn.functional.relu(out)  \n",
    "        out = self.dropout_1(out)  \n",
    "        out = self.fc_2(out)\n",
    "        out = self.bn_2(out)  \n",
    "        out = nn.functional.relu(out)  \n",
    "        out = self.dropout_2(out) \n",
    "        out = self.fc_3(out)\n",
    "        return out\n",
    "\n",
    "class GRUModel(nn.Module):\n",
    "    def __init__(self):\n",
    "        super(GRUModel, self).__init__()\n",
    "        self.gru_1 = nn.GRU(768, 256, num_layers=1,batch_first=True)\n",
    "        self.gru_2 = nn.GRU(256, 64, num_layers=1,batch_first=True)\n",
    "        self.fc_1 = nn.Linear(64, 16)\n",
    "        self.fc_2 = nn.Linear(16, 4)\n",
    "\n",
    "    def forward(self, x):\n",
    "        out, _ = self.gru_1(x)  \n",
    "        out, _ = self.gru_2(out)              \n",
    "        out = self.fc_1(out[:, -1, :])\n",
    "        out = self.fc_2(out)\n",
    "        return out\n",
    "    \n",
    "class RNNModel(nn.Module):\n",
    "    def __init__(self):\n",
    "        super(RNNModel, self).__init__()\n",
    "        self.rnn_1 = nn.RNN(768, 256, num_layers=1,batch_first=True)\n",
    "        self.rnn_2 = nn.RNN(256, 64, num_layers=1,batch_first=True)\n",
    "        self.fc_1 = nn.Linear(64, 16)\n",
    "        self.fc_2 = nn.Linear(16, 4)\n",
    "\n",
    "    def forward(self, x):\n",
    "        out, _ = self.rnn_1(x)  \n",
    "        out, _ = self.rnn_2(out)              \n",
    "        out = self.fc_1(out[:, -1, :])\n",
    "        # out = nn.functional.relu(out)  \n",
    "        out = self.fc_2(out)\n",
    "        return out\n",
    "    \n",
    "class LSTMModel(nn.Module):\n",
    "    def __init__(self):\n",
    "        super(LSTMModel, self).__init__()\n",
    "        self.lstm_1 = nn.LSTM(768, 256, num_layers=1,batch_first=True)\n",
    "        self.lstm_2 = nn.LSTM(256, 64, num_layers=1,batch_first=True)\n",
    "        self.fc_1 = nn.Linear(64, 16)\n",
    "        self.fc_2 = nn.Linear(16, 4)\n",
    "\n",
    "    def forward(self, x):\n",
    "        out, _ = self.lstm_1(x)  \n",
    "        out, _ = self.lstm_2(out)              \n",
    "        out = self.fc_1(out[:, -1, :])\n",
    "        # out = nn.functional.relu(out)  \n",
    "        out = self.fc_2(out)\n",
    "        return out"
   ]
  },
  {
   "cell_type": "code",
   "execution_count": 27,
   "metadata": {},
   "outputs": [],
   "source": [
    "def train(train_dataset, val_dataset, test_dataset, model, epochs=25, learning_rate=5e-3, batch = 8):\n",
    "    device = torch.device(\"cuda\" if torch.cuda.is_available() else \"cpu\")\n",
    "    model.to(device)\n",
    "    \n",
    "    criterion = nn.CrossEntropyLoss()\n",
    "    optimizer = optim.Adam(model.parameters(), lr=learning_rate)\n",
    "    \n",
    "    train_dataloader = DataLoader(train_dataset, batch_size=batch, shuffle=True)\n",
    "    val_dataloader = DataLoader(val_dataset, batch_size=batch, shuffle=True)\n",
    "    \n",
    "    train_losses = []\n",
    "    val_losses = []\n",
    "\n",
    "    for epoch in range(epochs):\n",
    "        model.train()\n",
    "        running_loss = 0.0\n",
    "        t_correct = 0\n",
    "        t_total = 0\n",
    "        for inputs, targets in tqdm.tqdm(train_dataloader):\n",
    "            inputs = inputs.to(device)\n",
    "            targets = targets.to(device)\n",
    "            optimizer.zero_grad()\n",
    "            outputs = model(inputs)\n",
    "            loss = criterion(outputs, targets)\n",
    "            loss.backward()\n",
    "            optimizer.step()\n",
    "            running_loss += loss.item()\n",
    "            if torch.cuda.is_available():\n",
    "                torch.cuda.empty_cache()\n",
    "            _, predicted = torch.max(outputs, 1)\n",
    "            t_total += targets.size(0)\n",
    "            t_correct += (predicted == targets).sum().item()\n",
    "        \n",
    "        # Validation\n",
    "        model.eval()\n",
    "        val_loss = 0.0\n",
    "        correct = 0\n",
    "        total = 0\n",
    "        with torch.no_grad():\n",
    "            for inputs, targets in val_dataloader:\n",
    "                inputs = inputs.to(device)\n",
    "                targets = targets.to(device)\n",
    "                outputs = model(inputs)\n",
    "                loss = criterion(outputs, targets)\n",
    "                val_loss += loss.item()\n",
    "\n",
    "                _, predicted = torch.max(outputs, 1)\n",
    "                total += targets.size(0)\n",
    "                correct += (predicted == targets).sum().item()\n",
    "\n",
    "        train_loss = running_loss / len(train_dataloader)\n",
    "        val_loss = val_loss / len(val_dataloader)\n",
    "        train_losses.append(train_loss)\n",
    "        val_losses.append(val_loss)\n",
    "\n",
    "        test_model(test_dataset, model)\n",
    "        torch.save(model.state_dict(), 'model'+ str(epoch)+'.pt')\n",
    "\n",
    "        print(f\"Epoch [{epoch+1}/{epochs}], \"\n",
    "              f\"Train Loss: {train_loss:.4f}, \"\n",
    "                f\"Train Accuracy: {(100 * t_correct / t_total):.2f}% , \"\n",
    "              f\"Val Loss: {val_loss:.4f}, \"\n",
    "              f\"Val Accuracy: {(100 * correct / total):.2f}%\")\n",
    "\n",
    "    # Plotting\n",
    "    plt.figure(figsize=(10, 5))\n",
    "    plt.plot(range(1, epochs + 1), train_losses, label='Training Loss')\n",
    "    plt.plot(range(1, epochs + 1), val_losses, label='Validation Loss')\n",
    "    plt.xlabel('Epochs')\n",
    "    plt.ylabel('Loss')\n",
    "    plt.title('Training and Validation Loss')\n",
    "    plt.legend()\n",
    "    plt.show()\n",
    "    \n",
    "\n",
    "def test_model(test_dataset, model, batch = 8):\n",
    "    total = 0\n",
    "    correct = 0\n",
    "    test_dataloader = DataLoader(test_dataset, batch_size=batch, shuffle=True)\n",
    "    device = torch.device(\"cuda\" if torch.cuda.is_available() else \"cpu\")\n",
    "    model.eval()\n",
    "    model.to(device)\n",
    "    with torch.no_grad():\n",
    "        for inputs, targets in test_dataloader:\n",
    "            inputs = inputs.to(device)\n",
    "            targets = targets.to(device)\n",
    "            outputs = model(inputs)\n",
    "            _, predicted = torch.max(outputs, 1)\n",
    "            total += targets.size(0)\n",
    "            correct += (predicted == targets).sum().item()\n",
    "    print(f\"Test Accuracy: {(100 * correct / total):.2f}%\")\n",
    "\n",
    "\n"
   ]
  },
  {
   "cell_type": "code",
   "execution_count": null,
   "metadata": {},
   "outputs": [],
   "source": [
    "# model_sentence_fc = SentenceModel()\n",
    "# train(train_dataset, val_dataset, test_dataset,model_sentence_fc)\n"
   ]
  },
  {
   "cell_type": "code",
   "execution_count": 20,
   "metadata": {},
   "outputs": [
    {
     "name": "stderr",
     "output_type": "stream",
     "text": [
      "100%|██████████| 203/203 [00:01<00:00, 159.29it/s]\n"
     ]
    },
    {
     "name": "stdout",
     "output_type": "stream",
     "text": [
      "Test Accuracy: 23.53%\n",
      "Epoch [1/30], Train Loss: 1.3191, Train Accuracy: 30.12% , Val Loss: 1.3000, Val Accuracy: 25.49%\n"
     ]
    },
    {
     "name": "stderr",
     "output_type": "stream",
     "text": [
      "100%|██████████| 203/203 [00:00<00:00, 223.69it/s]\n"
     ]
    },
    {
     "name": "stdout",
     "output_type": "stream",
     "text": [
      "Test Accuracy: 19.61%\n",
      "Epoch [2/30], Train Loss: 1.2368, Train Accuracy: 36.79% , Val Loss: 1.3072, Val Accuracy: 27.45%\n"
     ]
    },
    {
     "name": "stderr",
     "output_type": "stream",
     "text": [
      "100%|██████████| 203/203 [00:00<00:00, 232.05it/s]\n"
     ]
    },
    {
     "name": "stdout",
     "output_type": "stream",
     "text": [
      "Test Accuracy: 27.45%\n",
      "Epoch [3/30], Train Loss: 1.1937, Train Accuracy: 43.70% , Val Loss: 1.2835, Val Accuracy: 27.45%\n"
     ]
    },
    {
     "name": "stderr",
     "output_type": "stream",
     "text": [
      "100%|██████████| 203/203 [00:00<00:00, 227.13it/s]\n"
     ]
    },
    {
     "name": "stdout",
     "output_type": "stream",
     "text": [
      "Test Accuracy: 21.57%\n",
      "Epoch [4/30], Train Loss: 1.1527, Train Accuracy: 44.94% , Val Loss: 1.2476, Val Accuracy: 33.33%\n"
     ]
    },
    {
     "name": "stderr",
     "output_type": "stream",
     "text": [
      "100%|██████████| 203/203 [00:00<00:00, 222.86it/s]\n"
     ]
    },
    {
     "name": "stdout",
     "output_type": "stream",
     "text": [
      "Test Accuracy: 17.65%\n",
      "Epoch [5/30], Train Loss: 1.1105, Train Accuracy: 51.60% , Val Loss: 1.2452, Val Accuracy: 35.29%\n"
     ]
    },
    {
     "name": "stderr",
     "output_type": "stream",
     "text": [
      "100%|██████████| 203/203 [00:00<00:00, 227.12it/s]\n"
     ]
    },
    {
     "name": "stdout",
     "output_type": "stream",
     "text": [
      "Test Accuracy: 19.61%\n",
      "Epoch [6/30], Train Loss: 1.0684, Train Accuracy: 53.83% , Val Loss: 1.2699, Val Accuracy: 23.53%\n"
     ]
    },
    {
     "name": "stderr",
     "output_type": "stream",
     "text": [
      "100%|██████████| 203/203 [00:00<00:00, 217.88it/s]\n"
     ]
    },
    {
     "name": "stdout",
     "output_type": "stream",
     "text": [
      "Test Accuracy: 19.61%\n",
      "Epoch [7/30], Train Loss: 1.0397, Train Accuracy: 53.58% , Val Loss: 1.2757, Val Accuracy: 25.49%\n"
     ]
    },
    {
     "name": "stderr",
     "output_type": "stream",
     "text": [
      "100%|██████████| 203/203 [00:00<00:00, 229.71it/s]\n"
     ]
    },
    {
     "name": "stdout",
     "output_type": "stream",
     "text": [
      "Test Accuracy: 27.45%\n",
      "Epoch [8/30], Train Loss: 0.9973, Train Accuracy: 52.59% , Val Loss: 1.2461, Val Accuracy: 31.37%\n"
     ]
    },
    {
     "name": "stderr",
     "output_type": "stream",
     "text": [
      "100%|██████████| 203/203 [00:01<00:00, 199.75it/s]\n"
     ]
    },
    {
     "name": "stdout",
     "output_type": "stream",
     "text": [
      "Test Accuracy: 23.53%\n",
      "Epoch [9/30], Train Loss: 0.9633, Train Accuracy: 58.02% , Val Loss: 1.2693, Val Accuracy: 25.49%\n"
     ]
    },
    {
     "name": "stderr",
     "output_type": "stream",
     "text": [
      "100%|██████████| 203/203 [00:00<00:00, 241.64it/s]\n"
     ]
    },
    {
     "name": "stdout",
     "output_type": "stream",
     "text": [
      "Test Accuracy: 25.49%\n",
      "Epoch [10/30], Train Loss: 0.9254, Train Accuracy: 61.73% , Val Loss: 1.2970, Val Accuracy: 29.41%\n"
     ]
    },
    {
     "name": "stderr",
     "output_type": "stream",
     "text": [
      "100%|██████████| 203/203 [00:00<00:00, 253.28it/s]\n"
     ]
    },
    {
     "name": "stdout",
     "output_type": "stream",
     "text": [
      "Test Accuracy: 23.53%\n",
      "Epoch [11/30], Train Loss: 0.8973, Train Accuracy: 60.49% , Val Loss: 1.3306, Val Accuracy: 27.45%\n"
     ]
    },
    {
     "name": "stderr",
     "output_type": "stream",
     "text": [
      "100%|██████████| 203/203 [00:00<00:00, 229.49it/s]\n"
     ]
    },
    {
     "name": "stdout",
     "output_type": "stream",
     "text": [
      "Test Accuracy: 23.53%\n",
      "Epoch [12/30], Train Loss: 0.8512, Train Accuracy: 64.20% , Val Loss: 1.3717, Val Accuracy: 23.53%\n"
     ]
    },
    {
     "name": "stderr",
     "output_type": "stream",
     "text": [
      "100%|██████████| 203/203 [00:00<00:00, 245.81it/s]\n"
     ]
    },
    {
     "name": "stdout",
     "output_type": "stream",
     "text": [
      "Test Accuracy: 25.49%\n",
      "Epoch [13/30], Train Loss: 0.8175, Train Accuracy: 65.19% , Val Loss: 1.3988, Val Accuracy: 21.57%\n"
     ]
    },
    {
     "name": "stderr",
     "output_type": "stream",
     "text": [
      "100%|██████████| 203/203 [00:00<00:00, 252.16it/s]\n"
     ]
    },
    {
     "name": "stdout",
     "output_type": "stream",
     "text": [
      "Test Accuracy: 25.49%\n",
      "Epoch [14/30], Train Loss: 0.7898, Train Accuracy: 66.67% , Val Loss: 1.4436, Val Accuracy: 23.53%\n"
     ]
    },
    {
     "name": "stderr",
     "output_type": "stream",
     "text": [
      "100%|██████████| 203/203 [00:00<00:00, 238.86it/s]\n"
     ]
    },
    {
     "name": "stdout",
     "output_type": "stream",
     "text": [
      "Test Accuracy: 27.45%\n",
      "Epoch [15/30], Train Loss: 0.7592, Train Accuracy: 68.15% , Val Loss: 1.4446, Val Accuracy: 19.61%\n"
     ]
    },
    {
     "name": "stderr",
     "output_type": "stream",
     "text": [
      "100%|██████████| 203/203 [00:00<00:00, 250.98it/s]\n"
     ]
    },
    {
     "name": "stdout",
     "output_type": "stream",
     "text": [
      "Test Accuracy: 25.49%\n",
      "Epoch [16/30], Train Loss: 0.7280, Train Accuracy: 70.86% , Val Loss: 1.4749, Val Accuracy: 23.53%\n"
     ]
    },
    {
     "name": "stderr",
     "output_type": "stream",
     "text": [
      "100%|██████████| 203/203 [00:00<00:00, 244.70it/s]\n"
     ]
    },
    {
     "name": "stdout",
     "output_type": "stream",
     "text": [
      "Test Accuracy: 29.41%\n",
      "Epoch [17/30], Train Loss: 0.6806, Train Accuracy: 72.84% , Val Loss: 1.5206, Val Accuracy: 21.57%\n"
     ]
    },
    {
     "name": "stderr",
     "output_type": "stream",
     "text": [
      "100%|██████████| 203/203 [00:00<00:00, 244.33it/s]\n"
     ]
    },
    {
     "name": "stdout",
     "output_type": "stream",
     "text": [
      "Test Accuracy: 29.41%\n",
      "Epoch [18/30], Train Loss: 0.6530, Train Accuracy: 74.81% , Val Loss: 1.4757, Val Accuracy: 23.53%\n"
     ]
    },
    {
     "name": "stderr",
     "output_type": "stream",
     "text": [
      "100%|██████████| 203/203 [00:00<00:00, 212.88it/s]\n"
     ]
    },
    {
     "name": "stdout",
     "output_type": "stream",
     "text": [
      "Test Accuracy: 21.57%\n",
      "Epoch [19/30], Train Loss: 0.6267, Train Accuracy: 73.83% , Val Loss: 1.6341, Val Accuracy: 29.41%\n"
     ]
    },
    {
     "name": "stderr",
     "output_type": "stream",
     "text": [
      "100%|██████████| 203/203 [00:00<00:00, 245.40it/s]\n"
     ]
    },
    {
     "name": "stdout",
     "output_type": "stream",
     "text": [
      "Test Accuracy: 27.45%\n",
      "Epoch [20/30], Train Loss: 0.5987, Train Accuracy: 74.81% , Val Loss: 1.6177, Val Accuracy: 27.45%\n"
     ]
    },
    {
     "name": "stderr",
     "output_type": "stream",
     "text": [
      "100%|██████████| 203/203 [00:00<00:00, 248.73it/s]\n"
     ]
    },
    {
     "name": "stdout",
     "output_type": "stream",
     "text": [
      "Test Accuracy: 25.49%\n",
      "Epoch [21/30], Train Loss: 0.5615, Train Accuracy: 75.80% , Val Loss: 1.7232, Val Accuracy: 23.53%\n"
     ]
    },
    {
     "name": "stderr",
     "output_type": "stream",
     "text": [
      "100%|██████████| 203/203 [00:00<00:00, 211.94it/s]\n"
     ]
    },
    {
     "name": "stdout",
     "output_type": "stream",
     "text": [
      "Test Accuracy: 25.49%\n",
      "Epoch [22/30], Train Loss: 0.5266, Train Accuracy: 77.78% , Val Loss: 1.6573, Val Accuracy: 29.41%\n"
     ]
    },
    {
     "name": "stderr",
     "output_type": "stream",
     "text": [
      "100%|██████████| 203/203 [00:00<00:00, 241.60it/s]\n"
     ]
    },
    {
     "name": "stdout",
     "output_type": "stream",
     "text": [
      "Test Accuracy: 27.45%\n",
      "Epoch [23/30], Train Loss: 0.4987, Train Accuracy: 79.75% , Val Loss: 1.7690, Val Accuracy: 23.53%\n"
     ]
    },
    {
     "name": "stderr",
     "output_type": "stream",
     "text": [
      "100%|██████████| 203/203 [00:00<00:00, 232.67it/s]\n"
     ]
    },
    {
     "name": "stdout",
     "output_type": "stream",
     "text": [
      "Test Accuracy: 23.53%\n",
      "Epoch [24/30], Train Loss: 0.4658, Train Accuracy: 79.75% , Val Loss: 1.8691, Val Accuracy: 25.49%\n"
     ]
    },
    {
     "name": "stderr",
     "output_type": "stream",
     "text": [
      "100%|██████████| 203/203 [00:01<00:00, 120.58it/s]\n"
     ]
    },
    {
     "name": "stdout",
     "output_type": "stream",
     "text": [
      "Test Accuracy: 23.53%\n",
      "Epoch [25/30], Train Loss: 0.4462, Train Accuracy: 80.99% , Val Loss: 1.7608, Val Accuracy: 25.49%\n"
     ]
    },
    {
     "name": "stderr",
     "output_type": "stream",
     "text": [
      "100%|██████████| 203/203 [00:01<00:00, 198.04it/s]\n"
     ]
    },
    {
     "name": "stdout",
     "output_type": "stream",
     "text": [
      "Test Accuracy: 29.41%\n",
      "Epoch [26/30], Train Loss: 0.4221, Train Accuracy: 82.47% , Val Loss: 1.8502, Val Accuracy: 23.53%\n"
     ]
    },
    {
     "name": "stderr",
     "output_type": "stream",
     "text": [
      "100%|██████████| 203/203 [00:00<00:00, 234.06it/s]\n"
     ]
    },
    {
     "name": "stdout",
     "output_type": "stream",
     "text": [
      "Test Accuracy: 27.45%\n",
      "Epoch [27/30], Train Loss: 0.3897, Train Accuracy: 84.69% , Val Loss: 1.8901, Val Accuracy: 31.37%\n"
     ]
    },
    {
     "name": "stderr",
     "output_type": "stream",
     "text": [
      "100%|██████████| 203/203 [00:00<00:00, 233.53it/s]\n"
     ]
    },
    {
     "name": "stdout",
     "output_type": "stream",
     "text": [
      "Test Accuracy: 25.49%\n",
      "Epoch [28/30], Train Loss: 0.3697, Train Accuracy: 86.17% , Val Loss: 1.9095, Val Accuracy: 25.49%\n"
     ]
    },
    {
     "name": "stderr",
     "output_type": "stream",
     "text": [
      "100%|██████████| 203/203 [00:00<00:00, 228.67it/s]\n"
     ]
    },
    {
     "name": "stdout",
     "output_type": "stream",
     "text": [
      "Test Accuracy: 25.49%\n",
      "Epoch [29/30], Train Loss: 0.3481, Train Accuracy: 85.43% , Val Loss: 1.9440, Val Accuracy: 27.45%\n"
     ]
    },
    {
     "name": "stderr",
     "output_type": "stream",
     "text": [
      "100%|██████████| 203/203 [00:01<00:00, 186.41it/s]\n"
     ]
    },
    {
     "name": "stdout",
     "output_type": "stream",
     "text": [
      "Test Accuracy: 25.49%\n",
      "Epoch [30/30], Train Loss: 0.3374, Train Accuracy: 84.44% , Val Loss: 2.0677, Val Accuracy: 31.37%\n"
     ]
    },
    {
     "data": {
      "image/png": "[encoded data removed]",
      "text/plain": [
       "<Figure size 1000x500 with 1 Axes>"
      ]
     },
     "metadata": {},
     "output_type": "display_data"
    }
   ],
   "source": [
    "model_sentence_gru = GRUModel()\n",
    "train(train_dataset_2, val_dataset_2, test_dataset_2, model_sentence_gru, epochs = 30, learning_rate=0.00005, batch=2)"
   ]
  },
  {
   "cell_type": "code",
   "execution_count": 23,
   "metadata": {},
   "outputs": [
    {
     "name": "stdout",
     "output_type": "stream",
     "text": [
      "Test Accuracy: 25.49%\n"
     ]
    }
   ],
   "source": [
    "test_model(test_dataset_2, model_sentence_gru)"
   ]
  },
  {
   "cell_type": "code",
   "execution_count": 29,
   "metadata": {},
   "outputs": [
    {
     "name": "stderr",
     "output_type": "stream",
     "text": [
      "100%|██████████| 102/102 [00:00<00:00, 345.89it/s]\n"
     ]
    },
    {
     "name": "stdout",
     "output_type": "stream",
     "text": [
      "Test Accuracy: 31.37%\n",
      "Epoch [1/30], Train Loss: 1.2885, Train Accuracy: 33.09% , Val Loss: 1.3038, Val Accuracy: 29.41%\n"
     ]
    },
    {
     "name": "stderr",
     "output_type": "stream",
     "text": [
      "100%|██████████| 102/102 [00:00<00:00, 437.24it/s]\n"
     ]
    },
    {
     "name": "stdout",
     "output_type": "stream",
     "text": [
      "Test Accuracy: 23.53%\n",
      "Epoch [2/30], Train Loss: 1.1935, Train Accuracy: 42.22% , Val Loss: 1.2574, Val Accuracy: 29.41%\n"
     ]
    },
    {
     "name": "stderr",
     "output_type": "stream",
     "text": [
      "100%|██████████| 102/102 [00:00<00:00, 450.71it/s]\n"
     ]
    },
    {
     "name": "stdout",
     "output_type": "stream",
     "text": [
      "Test Accuracy: 25.49%\n",
      "Epoch [3/30], Train Loss: 1.1255, Train Accuracy: 45.93% , Val Loss: 1.1862, Val Accuracy: 41.18%\n"
     ]
    },
    {
     "name": "stderr",
     "output_type": "stream",
     "text": [
      "100%|██████████| 102/102 [00:00<00:00, 443.66it/s]\n"
     ]
    },
    {
     "name": "stdout",
     "output_type": "stream",
     "text": [
      "Test Accuracy: 27.45%\n",
      "Epoch [4/30], Train Loss: 1.0572, Train Accuracy: 57.04% , Val Loss: 1.2029, Val Accuracy: 41.18%\n"
     ]
    },
    {
     "name": "stderr",
     "output_type": "stream",
     "text": [
      "100%|██████████| 102/102 [00:00<00:00, 436.73it/s]\n"
     ]
    },
    {
     "name": "stdout",
     "output_type": "stream",
     "text": [
      "Test Accuracy: 33.33%\n",
      "Epoch [5/30], Train Loss: 0.9956, Train Accuracy: 57.78% , Val Loss: 1.2146, Val Accuracy: 41.18%\n"
     ]
    },
    {
     "name": "stderr",
     "output_type": "stream",
     "text": [
      "100%|██████████| 102/102 [00:00<00:00, 314.80it/s]\n"
     ]
    },
    {
     "name": "stdout",
     "output_type": "stream",
     "text": [
      "Test Accuracy: 31.37%\n",
      "Epoch [6/30], Train Loss: 0.9184, Train Accuracy: 63.21% , Val Loss: 1.2499, Val Accuracy: 39.22%\n"
     ]
    },
    {
     "name": "stderr",
     "output_type": "stream",
     "text": [
      "100%|██████████| 102/102 [00:00<00:00, 310.97it/s]\n"
     ]
    },
    {
     "name": "stdout",
     "output_type": "stream",
     "text": [
      "Test Accuracy: 41.18%\n",
      "Epoch [7/30], Train Loss: 0.8280, Train Accuracy: 72.10% , Val Loss: 1.2050, Val Accuracy: 45.10%\n"
     ]
    },
    {
     "name": "stderr",
     "output_type": "stream",
     "text": [
      "100%|██████████| 102/102 [00:00<00:00, 434.63it/s]\n"
     ]
    },
    {
     "name": "stdout",
     "output_type": "stream",
     "text": [
      "Test Accuracy: 41.18%\n",
      "Epoch [8/30], Train Loss: 0.7222, Train Accuracy: 73.83% , Val Loss: 1.2188, Val Accuracy: 39.22%\n"
     ]
    },
    {
     "name": "stderr",
     "output_type": "stream",
     "text": [
      "100%|██████████| 102/102 [00:00<00:00, 440.10it/s]\n"
     ]
    },
    {
     "name": "stdout",
     "output_type": "stream",
     "text": [
      "Test Accuracy: 41.18%\n",
      "Epoch [9/30], Train Loss: 0.6348, Train Accuracy: 79.26% , Val Loss: 1.2238, Val Accuracy: 47.06%\n"
     ]
    },
    {
     "name": "stderr",
     "output_type": "stream",
     "text": [
      "100%|██████████| 102/102 [00:00<00:00, 444.01it/s]\n"
     ]
    },
    {
     "name": "stdout",
     "output_type": "stream",
     "text": [
      "Test Accuracy: 52.94%\n",
      "Epoch [10/30], Train Loss: 0.5421, Train Accuracy: 86.42% , Val Loss: 1.1896, Val Accuracy: 50.98%\n"
     ]
    },
    {
     "name": "stderr",
     "output_type": "stream",
     "text": [
      "100%|██████████| 102/102 [00:00<00:00, 432.44it/s]\n"
     ]
    },
    {
     "name": "stdout",
     "output_type": "stream",
     "text": [
      "Test Accuracy: 47.06%\n",
      "Epoch [11/30], Train Loss: 0.4438, Train Accuracy: 89.63% , Val Loss: 1.1878, Val Accuracy: 45.10%\n"
     ]
    },
    {
     "name": "stderr",
     "output_type": "stream",
     "text": [
      "100%|██████████| 102/102 [00:00<00:00, 396.35it/s]\n"
     ]
    },
    {
     "name": "stdout",
     "output_type": "stream",
     "text": [
      "Test Accuracy: 49.02%\n",
      "Epoch [12/30], Train Loss: 0.3774, Train Accuracy: 90.12% , Val Loss: 1.2027, Val Accuracy: 49.02%\n"
     ]
    },
    {
     "name": "stderr",
     "output_type": "stream",
     "text": [
      "100%|██████████| 102/102 [00:00<00:00, 424.81it/s]\n"
     ]
    },
    {
     "name": "stdout",
     "output_type": "stream",
     "text": [
      "Test Accuracy: 49.02%\n",
      "Epoch [13/30], Train Loss: 0.3010, Train Accuracy: 93.09% , Val Loss: 1.2165, Val Accuracy: 50.98%\n"
     ]
    },
    {
     "name": "stderr",
     "output_type": "stream",
     "text": [
      "100%|██████████| 102/102 [00:00<00:00, 401.67it/s]\n"
     ]
    },
    {
     "name": "stdout",
     "output_type": "stream",
     "text": [
      "Test Accuracy: 41.18%\n",
      "Epoch [14/30], Train Loss: 0.2331, Train Accuracy: 96.30% , Val Loss: 1.2310, Val Accuracy: 52.94%\n"
     ]
    },
    {
     "name": "stderr",
     "output_type": "stream",
     "text": [
      "100%|██████████| 102/102 [00:00<00:00, 435.46it/s]\n"
     ]
    },
    {
     "name": "stdout",
     "output_type": "stream",
     "text": [
      "Test Accuracy: 49.02%\n",
      "Epoch [15/30], Train Loss: 0.1968, Train Accuracy: 95.80% , Val Loss: 1.2789, Val Accuracy: 47.06%\n"
     ]
    },
    {
     "name": "stderr",
     "output_type": "stream",
     "text": [
      "100%|██████████| 102/102 [00:00<00:00, 417.04it/s]\n"
     ]
    },
    {
     "name": "stdout",
     "output_type": "stream",
     "text": [
      "Test Accuracy: 49.02%\n",
      "Epoch [16/30], Train Loss: 0.1495, Train Accuracy: 98.02% , Val Loss: 1.2263, Val Accuracy: 52.94%\n"
     ]
    },
    {
     "name": "stderr",
     "output_type": "stream",
     "text": [
      "100%|██████████| 102/102 [00:00<00:00, 453.12it/s]\n"
     ]
    },
    {
     "name": "stdout",
     "output_type": "stream",
     "text": [
      "Test Accuracy: 49.02%\n",
      "Epoch [17/30], Train Loss: 0.1256, Train Accuracy: 98.02% , Val Loss: 1.2873, Val Accuracy: 50.98%\n"
     ]
    },
    {
     "name": "stderr",
     "output_type": "stream",
     "text": [
      "100%|██████████| 102/102 [00:00<00:00, 430.97it/s]\n"
     ]
    },
    {
     "name": "stdout",
     "output_type": "stream",
     "text": [
      "Test Accuracy: 45.10%\n",
      "Epoch [18/30], Train Loss: 0.0994, Train Accuracy: 98.27% , Val Loss: 1.2699, Val Accuracy: 49.02%\n"
     ]
    },
    {
     "name": "stderr",
     "output_type": "stream",
     "text": [
      "100%|██████████| 102/102 [00:00<00:00, 443.43it/s]\n"
     ]
    },
    {
     "name": "stdout",
     "output_type": "stream",
     "text": [
      "Test Accuracy: 49.02%\n",
      "Epoch [19/30], Train Loss: 0.0853, Train Accuracy: 98.77% , Val Loss: 1.3893, Val Accuracy: 49.02%\n"
     ]
    },
    {
     "name": "stderr",
     "output_type": "stream",
     "text": [
      "100%|██████████| 102/102 [00:00<00:00, 449.02it/s]\n"
     ]
    },
    {
     "name": "stdout",
     "output_type": "stream",
     "text": [
      "Test Accuracy: 45.10%\n",
      "Epoch [20/30], Train Loss: 0.0732, Train Accuracy: 98.27% , Val Loss: 1.3851, Val Accuracy: 54.90%\n"
     ]
    },
    {
     "name": "stderr",
     "output_type": "stream",
     "text": [
      "100%|██████████| 102/102 [00:00<00:00, 450.72it/s]\n"
     ]
    },
    {
     "name": "stdout",
     "output_type": "stream",
     "text": [
      "Test Accuracy: 50.98%\n",
      "Epoch [21/30], Train Loss: 0.0584, Train Accuracy: 99.26% , Val Loss: 1.5099, Val Accuracy: 52.94%\n"
     ]
    },
    {
     "name": "stderr",
     "output_type": "stream",
     "text": [
      "100%|██████████| 102/102 [00:00<00:00, 214.85it/s]\n"
     ]
    },
    {
     "name": "stdout",
     "output_type": "stream",
     "text": [
      "Test Accuracy: 50.98%\n",
      "Epoch [22/30], Train Loss: 0.0606, Train Accuracy: 99.01% , Val Loss: 1.4464, Val Accuracy: 60.78%\n"
     ]
    },
    {
     "name": "stderr",
     "output_type": "stream",
     "text": [
      "100%|██████████| 102/102 [00:00<00:00, 430.52it/s]\n"
     ]
    },
    {
     "name": "stdout",
     "output_type": "stream",
     "text": [
      "Test Accuracy: 49.02%\n",
      "Epoch [23/30], Train Loss: 0.0450, Train Accuracy: 99.01% , Val Loss: 1.4096, Val Accuracy: 56.86%\n"
     ]
    },
    {
     "name": "stderr",
     "output_type": "stream",
     "text": [
      "100%|██████████| 102/102 [00:00<00:00, 448.04it/s]\n"
     ]
    },
    {
     "name": "stdout",
     "output_type": "stream",
     "text": [
      "Test Accuracy: 50.98%\n",
      "Epoch [24/30], Train Loss: 0.0357, Train Accuracy: 99.75% , Val Loss: 1.4266, Val Accuracy: 52.94%\n"
     ]
    },
    {
     "name": "stderr",
     "output_type": "stream",
     "text": [
      "100%|██████████| 102/102 [00:00<00:00, 424.50it/s]\n"
     ]
    },
    {
     "name": "stdout",
     "output_type": "stream",
     "text": [
      "Test Accuracy: 47.06%\n",
      "Epoch [25/30], Train Loss: 0.0334, Train Accuracy: 99.51% , Val Loss: 1.3559, Val Accuracy: 52.94%\n"
     ]
    },
    {
     "name": "stderr",
     "output_type": "stream",
     "text": [
      "100%|██████████| 102/102 [00:00<00:00, 447.36it/s]\n"
     ]
    },
    {
     "name": "stdout",
     "output_type": "stream",
     "text": [
      "Test Accuracy: 49.02%\n",
      "Epoch [26/30], Train Loss: 0.0322, Train Accuracy: 99.26% , Val Loss: 1.4024, Val Accuracy: 56.86%\n"
     ]
    },
    {
     "name": "stderr",
     "output_type": "stream",
     "text": [
      "100%|██████████| 102/102 [00:00<00:00, 468.13it/s]\n"
     ]
    },
    {
     "name": "stdout",
     "output_type": "stream",
     "text": [
      "Test Accuracy: 45.10%\n",
      "Epoch [27/30], Train Loss: 0.0301, Train Accuracy: 99.51% , Val Loss: 1.4354, Val Accuracy: 52.94%\n"
     ]
    },
    {
     "name": "stderr",
     "output_type": "stream",
     "text": [
      "100%|██████████| 102/102 [00:00<00:00, 452.74it/s]\n"
     ]
    },
    {
     "name": "stdout",
     "output_type": "stream",
     "text": [
      "Test Accuracy: 50.98%\n",
      "Epoch [28/30], Train Loss: 0.0336, Train Accuracy: 99.26% , Val Loss: 1.4436, Val Accuracy: 56.86%\n"
     ]
    },
    {
     "name": "stderr",
     "output_type": "stream",
     "text": [
      "100%|██████████| 102/102 [00:00<00:00, 447.79it/s]\n"
     ]
    },
    {
     "name": "stdout",
     "output_type": "stream",
     "text": [
      "Test Accuracy: 49.02%\n",
      "Epoch [29/30], Train Loss: 0.0178, Train Accuracy: 99.75% , Val Loss: 1.4625, Val Accuracy: 49.02%\n"
     ]
    },
    {
     "name": "stderr",
     "output_type": "stream",
     "text": [
      "100%|██████████| 102/102 [00:00<00:00, 426.76it/s]\n"
     ]
    },
    {
     "name": "stdout",
     "output_type": "stream",
     "text": [
      "Test Accuracy: 45.10%\n",
      "Epoch [30/30], Train Loss: 0.0181, Train Accuracy: 99.51% , Val Loss: 1.5644, Val Accuracy: 54.90%\n"
     ]
    },
    {
     "data": {
      "image/png": "[encoded data removed]",
      "text/plain": [
       "<Figure size 1000x500 with 1 Axes>"
      ]
     },
     "metadata": {},
     "output_type": "display_data"
    }
   ],
   "source": [
    "model_sentence_rnn = RNNModel()\n",
    "train(train_dataset_2, val_dataset_2, test_dataset_2, model_sentence_rnn, epochs = 30, learning_rate=0.0001, batch = 4)"
   ]
  },
  {
   "cell_type": "code",
   "execution_count": 20,
   "metadata": {},
   "outputs": [
    {
     "name": "stdout",
     "output_type": "stream",
     "text": [
      "Test Accuracy: 47.06%\n"
     ]
    }
   ],
   "source": [
    "test_model(test_dataset_2, model_sentence_rnn)"
   ]
  },
  {
   "cell_type": "code",
   "execution_count": 18,
   "metadata": {},
   "outputs": [
    {
     "name": "stderr",
     "output_type": "stream",
     "text": [
      "  0%|          | 0/102 [00:00<?, ?it/s]"
     ]
    },
    {
     "name": "stderr",
     "output_type": "stream",
     "text": [
      "100%|██████████| 102/102 [00:00<00:00, 158.54it/s]\n"
     ]
    },
    {
     "name": "stdout",
     "output_type": "stream",
     "text": [
      "Test Accuracy: 23.53%\n",
      "Epoch [1/30], Train Loss: 1.3239, Train Accuracy: 31.36% , Val Loss: 1.3423, Val Accuracy: 23.53%\n"
     ]
    },
    {
     "name": "stderr",
     "output_type": "stream",
     "text": [
      "100%|██████████| 102/102 [00:00<00:00, 177.42it/s]\n"
     ]
    },
    {
     "name": "stdout",
     "output_type": "stream",
     "text": [
      "Test Accuracy: 23.53%\n",
      "Epoch [2/30], Train Loss: 1.2635, Train Accuracy: 38.77% , Val Loss: 1.3181, Val Accuracy: 23.53%\n"
     ]
    },
    {
     "name": "stderr",
     "output_type": "stream",
     "text": [
      "100%|██████████| 102/102 [00:00<00:00, 177.39it/s]\n"
     ]
    },
    {
     "name": "stdout",
     "output_type": "stream",
     "text": [
      "Test Accuracy: 23.53%\n",
      "Epoch [3/30], Train Loss: 1.2140, Train Accuracy: 39.51% , Val Loss: 1.2977, Val Accuracy: 23.53%\n"
     ]
    },
    {
     "name": "stderr",
     "output_type": "stream",
     "text": [
      "100%|██████████| 102/102 [00:00<00:00, 175.25it/s]\n"
     ]
    },
    {
     "name": "stdout",
     "output_type": "stream",
     "text": [
      "Test Accuracy: 21.57%\n",
      "Epoch [4/30], Train Loss: 1.1691, Train Accuracy: 45.19% , Val Loss: 1.2595, Val Accuracy: 21.57%\n"
     ]
    },
    {
     "name": "stderr",
     "output_type": "stream",
     "text": [
      "100%|██████████| 102/102 [00:00<00:00, 144.85it/s]\n"
     ]
    },
    {
     "name": "stdout",
     "output_type": "stream",
     "text": [
      "Test Accuracy: 19.61%\n",
      "Epoch [5/30], Train Loss: 1.1219, Train Accuracy: 47.65% , Val Loss: 1.2474, Val Accuracy: 37.25%\n"
     ]
    },
    {
     "name": "stderr",
     "output_type": "stream",
     "text": [
      "100%|██████████| 102/102 [00:00<00:00, 174.01it/s]\n"
     ]
    },
    {
     "name": "stdout",
     "output_type": "stream",
     "text": [
      "Test Accuracy: 17.65%\n",
      "Epoch [6/30], Train Loss: 1.0733, Train Accuracy: 51.60% , Val Loss: 1.2516, Val Accuracy: 35.29%\n"
     ]
    },
    {
     "name": "stderr",
     "output_type": "stream",
     "text": [
      "100%|██████████| 102/102 [00:00<00:00, 183.54it/s]\n"
     ]
    },
    {
     "name": "stdout",
     "output_type": "stream",
     "text": [
      "Test Accuracy: 21.57%\n",
      "Epoch [7/30], Train Loss: 1.0182, Train Accuracy: 55.56% , Val Loss: 1.2764, Val Accuracy: 29.41%\n"
     ]
    },
    {
     "name": "stderr",
     "output_type": "stream",
     "text": [
      "100%|██████████| 102/102 [00:00<00:00, 186.69it/s]\n"
     ]
    },
    {
     "name": "stdout",
     "output_type": "stream",
     "text": [
      "Test Accuracy: 23.53%\n",
      "Epoch [8/30], Train Loss: 0.9677, Train Accuracy: 57.28% , Val Loss: 1.3373, Val Accuracy: 31.37%\n"
     ]
    },
    {
     "name": "stderr",
     "output_type": "stream",
     "text": [
      "100%|██████████| 102/102 [00:00<00:00, 179.20it/s]\n"
     ]
    },
    {
     "name": "stdout",
     "output_type": "stream",
     "text": [
      "Test Accuracy: 29.41%\n",
      "Epoch [9/30], Train Loss: 0.9200, Train Accuracy: 61.98% , Val Loss: 1.3073, Val Accuracy: 29.41%\n"
     ]
    },
    {
     "name": "stderr",
     "output_type": "stream",
     "text": [
      "100%|██████████| 102/102 [00:00<00:00, 181.62it/s]\n"
     ]
    },
    {
     "name": "stdout",
     "output_type": "stream",
     "text": [
      "Test Accuracy: 25.49%\n",
      "Epoch [10/30], Train Loss: 0.8679, Train Accuracy: 64.94% , Val Loss: 1.3543, Val Accuracy: 27.45%\n"
     ]
    },
    {
     "name": "stderr",
     "output_type": "stream",
     "text": [
      "100%|██████████| 102/102 [00:00<00:00, 188.39it/s]\n"
     ]
    },
    {
     "name": "stdout",
     "output_type": "stream",
     "text": [
      "Test Accuracy: 27.45%\n",
      "Epoch [11/30], Train Loss: 0.8162, Train Accuracy: 68.40% , Val Loss: 1.3850, Val Accuracy: 27.45%\n"
     ]
    },
    {
     "name": "stderr",
     "output_type": "stream",
     "text": [
      "100%|██████████| 102/102 [00:00<00:00, 171.46it/s]\n"
     ]
    },
    {
     "name": "stdout",
     "output_type": "stream",
     "text": [
      "Test Accuracy: 35.29%\n",
      "Epoch [12/30], Train Loss: 0.7705, Train Accuracy: 70.86% , Val Loss: 1.4223, Val Accuracy: 27.45%\n"
     ]
    },
    {
     "name": "stderr",
     "output_type": "stream",
     "text": [
      "100%|██████████| 102/102 [00:00<00:00, 179.56it/s]\n"
     ]
    },
    {
     "name": "stdout",
     "output_type": "stream",
     "text": [
      "Test Accuracy: 27.45%\n",
      "Epoch [13/30], Train Loss: 0.7207, Train Accuracy: 72.84% , Val Loss: 1.4335, Val Accuracy: 31.37%\n"
     ]
    },
    {
     "name": "stderr",
     "output_type": "stream",
     "text": [
      "100%|██████████| 102/102 [00:00<00:00, 178.94it/s]\n"
     ]
    },
    {
     "name": "stdout",
     "output_type": "stream",
     "text": [
      "Test Accuracy: 33.33%\n",
      "Epoch [14/30], Train Loss: 0.6722, Train Accuracy: 77.53% , Val Loss: 1.4869, Val Accuracy: 31.37%\n"
     ]
    },
    {
     "name": "stderr",
     "output_type": "stream",
     "text": [
      "100%|██████████| 102/102 [00:00<00:00, 176.71it/s]\n"
     ]
    },
    {
     "name": "stdout",
     "output_type": "stream",
     "text": [
      "Test Accuracy: 29.41%\n",
      "Epoch [15/30], Train Loss: 0.6255, Train Accuracy: 78.27% , Val Loss: 1.6151, Val Accuracy: 27.45%\n"
     ]
    },
    {
     "name": "stderr",
     "output_type": "stream",
     "text": [
      "100%|██████████| 102/102 [00:00<00:00, 188.78it/s]\n"
     ]
    },
    {
     "name": "stdout",
     "output_type": "stream",
     "text": [
      "Test Accuracy: 33.33%\n",
      "Epoch [16/30], Train Loss: 0.6031, Train Accuracy: 79.01% , Val Loss: 1.5875, Val Accuracy: 25.49%\n"
     ]
    },
    {
     "name": "stderr",
     "output_type": "stream",
     "text": [
      "100%|██████████| 102/102 [00:00<00:00, 186.97it/s]\n"
     ]
    },
    {
     "name": "stdout",
     "output_type": "stream",
     "text": [
      "Test Accuracy: 29.41%\n",
      "Epoch [17/30], Train Loss: 0.5631, Train Accuracy: 79.75% , Val Loss: 1.5931, Val Accuracy: 27.45%\n"
     ]
    },
    {
     "name": "stderr",
     "output_type": "stream",
     "text": [
      "100%|██████████| 102/102 [00:00<00:00, 177.28it/s]\n"
     ]
    },
    {
     "name": "stdout",
     "output_type": "stream",
     "text": [
      "Test Accuracy: 37.25%\n",
      "Epoch [18/30], Train Loss: 0.5165, Train Accuracy: 82.22% , Val Loss: 1.5944, Val Accuracy: 23.53%\n"
     ]
    },
    {
     "name": "stderr",
     "output_type": "stream",
     "text": [
      "100%|██████████| 102/102 [00:00<00:00, 186.55it/s]\n"
     ]
    },
    {
     "name": "stdout",
     "output_type": "stream",
     "text": [
      "Test Accuracy: 33.33%\n",
      "Epoch [19/30], Train Loss: 0.4740, Train Accuracy: 85.93% , Val Loss: 1.6762, Val Accuracy: 29.41%\n"
     ]
    },
    {
     "name": "stderr",
     "output_type": "stream",
     "text": [
      "100%|██████████| 102/102 [00:00<00:00, 181.03it/s]\n"
     ]
    },
    {
     "name": "stdout",
     "output_type": "stream",
     "text": [
      "Test Accuracy: 33.33%\n",
      "Epoch [20/30], Train Loss: 0.4492, Train Accuracy: 83.21% , Val Loss: 1.7271, Val Accuracy: 27.45%\n"
     ]
    },
    {
     "name": "stderr",
     "output_type": "stream",
     "text": [
      "100%|██████████| 102/102 [00:00<00:00, 190.83it/s]\n"
     ]
    },
    {
     "name": "stdout",
     "output_type": "stream",
     "text": [
      "Test Accuracy: 33.33%\n",
      "Epoch [21/30], Train Loss: 0.4131, Train Accuracy: 86.42% , Val Loss: 1.7171, Val Accuracy: 29.41%\n"
     ]
    },
    {
     "name": "stderr",
     "output_type": "stream",
     "text": [
      "100%|██████████| 102/102 [00:00<00:00, 182.40it/s]\n"
     ]
    },
    {
     "name": "stdout",
     "output_type": "stream",
     "text": [
      "Test Accuracy: 33.33%\n",
      "Epoch [22/30], Train Loss: 0.3859, Train Accuracy: 88.15% , Val Loss: 1.7469, Val Accuracy: 35.29%\n"
     ]
    },
    {
     "name": "stderr",
     "output_type": "stream",
     "text": [
      "100%|██████████| 102/102 [00:00<00:00, 178.46it/s]\n"
     ]
    },
    {
     "name": "stdout",
     "output_type": "stream",
     "text": [
      "Test Accuracy: 31.37%\n",
      "Epoch [23/30], Train Loss: 0.3694, Train Accuracy: 87.65% , Val Loss: 1.7366, Val Accuracy: 33.33%\n"
     ]
    },
    {
     "name": "stderr",
     "output_type": "stream",
     "text": [
      "100%|██████████| 102/102 [00:00<00:00, 151.37it/s]\n"
     ]
    },
    {
     "name": "stdout",
     "output_type": "stream",
     "text": [
      "Test Accuracy: 35.29%\n",
      "Epoch [24/30], Train Loss: 0.3400, Train Accuracy: 90.37% , Val Loss: 1.8037, Val Accuracy: 27.45%\n"
     ]
    },
    {
     "name": "stderr",
     "output_type": "stream",
     "text": [
      "100%|██████████| 102/102 [00:00<00:00, 184.68it/s]\n"
     ]
    },
    {
     "name": "stdout",
     "output_type": "stream",
     "text": [
      "Test Accuracy: 33.33%\n",
      "Epoch [25/30], Train Loss: 0.3374, Train Accuracy: 87.65% , Val Loss: 1.8966, Val Accuracy: 33.33%\n"
     ]
    },
    {
     "name": "stderr",
     "output_type": "stream",
     "text": [
      "100%|██████████| 102/102 [00:00<00:00, 174.35it/s]\n"
     ]
    },
    {
     "name": "stdout",
     "output_type": "stream",
     "text": [
      "Test Accuracy: 31.37%\n",
      "Epoch [26/30], Train Loss: 0.2850, Train Accuracy: 91.85% , Val Loss: 1.7939, Val Accuracy: 31.37%\n"
     ]
    },
    {
     "name": "stderr",
     "output_type": "stream",
     "text": [
      "100%|██████████| 102/102 [00:00<00:00, 168.48it/s]\n"
     ]
    },
    {
     "name": "stdout",
     "output_type": "stream",
     "text": [
      "Test Accuracy: 31.37%\n",
      "Epoch [27/30], Train Loss: 0.2831, Train Accuracy: 91.60% , Val Loss: 1.8604, Val Accuracy: 35.29%\n"
     ]
    },
    {
     "name": "stderr",
     "output_type": "stream",
     "text": [
      "100%|██████████| 102/102 [00:00<00:00, 185.17it/s]\n"
     ]
    },
    {
     "name": "stdout",
     "output_type": "stream",
     "text": [
      "Test Accuracy: 35.29%\n",
      "Epoch [28/30], Train Loss: 0.2793, Train Accuracy: 90.62% , Val Loss: 1.9367, Val Accuracy: 33.33%\n"
     ]
    },
    {
     "name": "stderr",
     "output_type": "stream",
     "text": [
      "100%|██████████| 102/102 [00:00<00:00, 160.08it/s]\n"
     ]
    },
    {
     "name": "stdout",
     "output_type": "stream",
     "text": [
      "Test Accuracy: 33.33%\n",
      "Epoch [29/30], Train Loss: 0.2399, Train Accuracy: 93.33% , Val Loss: 1.9909, Val Accuracy: 31.37%\n"
     ]
    },
    {
     "name": "stderr",
     "output_type": "stream",
     "text": [
      "100%|██████████| 102/102 [00:00<00:00, 181.25it/s]\n"
     ]
    },
    {
     "name": "stdout",
     "output_type": "stream",
     "text": [
      "Test Accuracy: 29.41%\n",
      "Epoch [30/30], Train Loss: 0.2176, Train Accuracy: 93.83% , Val Loss: 1.9511, Val Accuracy: 31.37%\n"
     ]
    },
    {
     "data": {
      "image/png": "[encoded data removed]",
      "text/plain": [
       "<Figure size 1000x500 with 1 Axes>"
      ]
     },
     "metadata": {},
     "output_type": "display_data"
    }
   ],
   "source": [
    "model_sentence_lstm = LSTMModel()\n",
    "train(train_dataset_2, val_dataset_2, test_dataset_2, model_sentence_lstm, epochs = 30, learning_rate=0.00005, batch = 4)"
   ]
  },
  {
   "cell_type": "code",
   "execution_count": null,
   "metadata": {},
   "outputs": [],
   "source": [
    "test_model(test_dataset, model_sentence_lstm)"
   ]
  }
 ],
 "metadata": {
  "kernelspec": {
   "display_name": ".venv",
   "language": "python",
   "name": "python3"
  },
  "language_info": {
   "codemirror_mode": {
    "name": "ipython",
    "version": 3
   },
   "file_extension": ".py",
   "mimetype": "text/x-python",
   "name": "python",
   "nbconvert_exporter": "python",
   "pygments_lexer": "ipython3",
   "version": "3.10.10"
  }
 },
 "nbformat": 4,
 "nbformat_minor": 2
}
